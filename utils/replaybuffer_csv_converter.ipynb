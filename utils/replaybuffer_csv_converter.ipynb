{
 "cells": [
  {
   "cell_type": "code",
   "execution_count": 3,
   "metadata": {},
   "outputs": [],
   "source": [
    "import ReplayBuffer\n",
    "\n",
    "import pandas as pd\n",
    "import numpy as np\n",
    "import joblib"
   ]
  },
  {
   "cell_type": "markdown",
   "metadata": {},
   "source": [
    "### Runs 256"
   ]
  },
  {
   "cell_type": "markdown",
   "metadata": {},
   "source": [
    "model_12000"
   ]
  },
  {
   "cell_type": "code",
   "execution_count": 7,
   "metadata": {},
   "outputs": [],
   "source": [
    "data = pd.DataFrame(columns=['state', 'action', 'next_state', 'reward', 'done'])"
   ]
  },
  {
   "cell_type": "code",
   "execution_count": 8,
   "metadata": {},
   "outputs": [],
   "source": [
    "rb = joblib.load(f'/home/riccardo/Downloads/relese_results/runs_256/test/model_12000/ReplayBuffer_test.joblib')"
   ]
  },
  {
   "cell_type": "code",
   "execution_count": 9,
   "metadata": {},
   "outputs": [],
   "source": [
    "n_episode = rb.mem_size\n",
    "\n",
    "for i in range(n_episode):\n",
    "    episode_transition = {}\n",
    "    episode_transition['state'] = rb.state[i]\n",
    "    episode_transition['action'] = rb.action[i]\n",
    "    episode_transition['next_state'] = rb.next_state[i]\n",
    "    episode_transition['reward'] = rb.reward[i]\n",
    "    episode_transition['done'] = rb.done[i]\n",
    "    data = pd.concat([data, pd.DataFrame([episode_transition])], ignore_index=True)"
   ]
  },
  {
   "cell_type": "code",
   "execution_count": 10,
   "metadata": {},
   "outputs": [],
   "source": [
    "data.to_csv('/home/riccardo/Downloads/relese_results/runs_256/test/model_12000/test.csv',index=None)"
   ]
  },
  {
   "cell_type": "markdown",
   "metadata": {},
   "source": [
    "model_25000"
   ]
  },
  {
   "cell_type": "code",
   "execution_count": 11,
   "metadata": {},
   "outputs": [],
   "source": [
    "data = pd.DataFrame(columns=['state', 'action', 'next_state', 'reward', 'done'])"
   ]
  },
  {
   "cell_type": "code",
   "execution_count": 12,
   "metadata": {},
   "outputs": [],
   "source": [
    "rb = joblib.load(f'/home/riccardo/Downloads/relese_results/runs_256/test/model_25000/ReplayBuffer_test.joblib')"
   ]
  },
  {
   "cell_type": "code",
   "execution_count": 13,
   "metadata": {},
   "outputs": [],
   "source": [
    "n_episode = rb.mem_size\n",
    "\n",
    "for i in range(n_episode):\n",
    "    episode_transition = {}\n",
    "    episode_transition['state'] = rb.state[i]\n",
    "    episode_transition['action'] = rb.action[i]\n",
    "    episode_transition['next_state'] = rb.next_state[i]\n",
    "    episode_transition['reward'] = rb.reward[i]\n",
    "    episode_transition['done'] = rb.done[i]\n",
    "    data = pd.concat([data, pd.DataFrame([episode_transition])], ignore_index=True)"
   ]
  },
  {
   "cell_type": "code",
   "execution_count": 14,
   "metadata": {},
   "outputs": [],
   "source": [
    "data.to_csv('/home/riccardo/Downloads/relese_results/runs_256/test/model_25000/test.csv',index=None)"
   ]
  },
  {
   "cell_type": "markdown",
   "metadata": {},
   "source": [
    "model_50000"
   ]
  },
  {
   "cell_type": "code",
   "execution_count": 15,
   "metadata": {},
   "outputs": [],
   "source": [
    "data = pd.DataFrame(columns=['state', 'action', 'next_state', 'reward', 'done'])"
   ]
  },
  {
   "cell_type": "code",
   "execution_count": 16,
   "metadata": {},
   "outputs": [],
   "source": [
    "rb = joblib.load(f'/home/riccardo/Downloads/relese_results/runs_256/test/model_50000/ReplayBuffer_test.joblib')"
   ]
  },
  {
   "cell_type": "code",
   "execution_count": 17,
   "metadata": {},
   "outputs": [],
   "source": [
    "n_episode = rb.mem_size\n",
    "\n",
    "for i in range(n_episode):\n",
    "    episode_transition = {}\n",
    "    episode_transition['state'] = rb.state[i]\n",
    "    episode_transition['action'] = rb.action[i]\n",
    "    episode_transition['next_state'] = rb.next_state[i]\n",
    "    episode_transition['reward'] = rb.reward[i]\n",
    "    episode_transition['done'] = rb.done[i]\n",
    "    data = pd.concat([data, pd.DataFrame([episode_transition])], ignore_index=True)"
   ]
  },
  {
   "cell_type": "code",
   "execution_count": 19,
   "metadata": {},
   "outputs": [],
   "source": [
    "data.to_csv('/home/riccardo/Downloads/relese_results/runs_256/test/model_50000/test.csv',index=None)"
   ]
  },
  {
   "cell_type": "markdown",
   "metadata": {},
   "source": [
    "model_75000"
   ]
  },
  {
   "cell_type": "code",
   "execution_count": 20,
   "metadata": {},
   "outputs": [],
   "source": [
    "data = pd.DataFrame(columns=['state', 'action', 'next_state', 'reward', 'done'])"
   ]
  },
  {
   "cell_type": "code",
   "execution_count": 21,
   "metadata": {},
   "outputs": [],
   "source": [
    "rb = joblib.load(f'/home/riccardo/Downloads/relese_results/runs_256/test/model_75000/ReplayBuffer_test.joblib')"
   ]
  },
  {
   "cell_type": "code",
   "execution_count": 22,
   "metadata": {},
   "outputs": [],
   "source": [
    "n_episode = rb.mem_size\n",
    "\n",
    "for i in range(n_episode):\n",
    "    episode_transition = {}\n",
    "    episode_transition['state'] = rb.state[i]\n",
    "    episode_transition['action'] = rb.action[i]\n",
    "    episode_transition['next_state'] = rb.next_state[i]\n",
    "    episode_transition['reward'] = rb.reward[i]\n",
    "    episode_transition['done'] = rb.done[i]\n",
    "    data = pd.concat([data, pd.DataFrame([episode_transition])], ignore_index=True)"
   ]
  },
  {
   "cell_type": "code",
   "execution_count": 23,
   "metadata": {},
   "outputs": [],
   "source": [
    "data.to_csv('/home/riccardo/Downloads/relese_results/runs_256/test/model_75000/test.csv',index=None)"
   ]
  },
  {
   "cell_type": "markdown",
   "metadata": {},
   "source": [
    "model_100000"
   ]
  },
  {
   "cell_type": "code",
   "execution_count": 24,
   "metadata": {},
   "outputs": [],
   "source": [
    "data = pd.DataFrame(columns=['state', 'action', 'next_state', 'reward', 'done'])"
   ]
  },
  {
   "cell_type": "code",
   "execution_count": 25,
   "metadata": {},
   "outputs": [],
   "source": [
    "rb = joblib.load(f'/home/riccardo/Downloads/relese_results/runs_256/test/model_100000/ReplayBuffer_test.joblib')"
   ]
  },
  {
   "cell_type": "code",
   "execution_count": 26,
   "metadata": {},
   "outputs": [],
   "source": [
    "n_episode = rb.mem_size\n",
    "\n",
    "for i in range(n_episode):\n",
    "    episode_transition = {}\n",
    "    episode_transition['state'] = rb.state[i]\n",
    "    episode_transition['action'] = rb.action[i]\n",
    "    episode_transition['next_state'] = rb.next_state[i]\n",
    "    episode_transition['reward'] = rb.reward[i]\n",
    "    episode_transition['done'] = rb.done[i]\n",
    "    data = pd.concat([data, pd.DataFrame([episode_transition])], ignore_index=True)"
   ]
  },
  {
   "cell_type": "code",
   "execution_count": 27,
   "metadata": {},
   "outputs": [],
   "source": [
    "data.to_csv('/home/riccardo/Downloads/relese_results/runs_256/test/model_100000/test.csv',index=None)"
   ]
  },
  {
   "cell_type": "markdown",
   "metadata": {},
   "source": [
    "### Runs 128"
   ]
  },
  {
   "cell_type": "code",
   "execution_count": 28,
   "metadata": {},
   "outputs": [],
   "source": [
    "data = pd.DataFrame(columns=['state', 'action', 'next_state', 'reward', 'done'])"
   ]
  },
  {
   "cell_type": "code",
   "execution_count": 29,
   "metadata": {},
   "outputs": [],
   "source": [
    "rb = joblib.load(f'/home/riccardo/Downloads/relese_results/runs_128/test/model_12000/ReplayBuffer_test.joblib')"
   ]
  },
  {
   "cell_type": "code",
   "execution_count": 30,
   "metadata": {},
   "outputs": [],
   "source": [
    "n_episode = rb.mem_size\n",
    "\n",
    "for i in range(n_episode):\n",
    "    episode_transition = {}\n",
    "    episode_transition['state'] = rb.state[i]\n",
    "    episode_transition['action'] = rb.action[i]\n",
    "    episode_transition['next_state'] = rb.next_state[i]\n",
    "    episode_transition['reward'] = rb.reward[i]\n",
    "    episode_transition['done'] = rb.done[i]\n",
    "    data = pd.concat([data, pd.DataFrame([episode_transition])], ignore_index=True)"
   ]
  },
  {
   "cell_type": "code",
   "execution_count": 31,
   "metadata": {},
   "outputs": [],
   "source": [
    "data.to_csv('/home/riccardo/Downloads/relese_results/runs_128/test/model_12000/test.csv',index=None)"
   ]
  },
  {
   "cell_type": "markdown",
   "metadata": {},
   "source": [
    "model_25000"
   ]
  },
  {
   "cell_type": "code",
   "execution_count": 32,
   "metadata": {},
   "outputs": [],
   "source": [
    "data = pd.DataFrame(columns=['state', 'action', 'next_state', 'reward', 'done'])"
   ]
  },
  {
   "cell_type": "code",
   "execution_count": 33,
   "metadata": {},
   "outputs": [],
   "source": [
    "rb = joblib.load(f'/home/riccardo/Downloads/relese_results/runs_128/test/model_25000/ReplayBuffer_test.joblib')"
   ]
  },
  {
   "cell_type": "code",
   "execution_count": 34,
   "metadata": {},
   "outputs": [],
   "source": [
    "n_episode = rb.mem_size\n",
    "\n",
    "for i in range(n_episode):\n",
    "    episode_transition = {}\n",
    "    episode_transition['state'] = rb.state[i]\n",
    "    episode_transition['action'] = rb.action[i]\n",
    "    episode_transition['next_state'] = rb.next_state[i]\n",
    "    episode_transition['reward'] = rb.reward[i]\n",
    "    episode_transition['done'] = rb.done[i]\n",
    "    data = pd.concat([data, pd.DataFrame([episode_transition])], ignore_index=True)"
   ]
  },
  {
   "cell_type": "code",
   "execution_count": 35,
   "metadata": {},
   "outputs": [],
   "source": [
    "data.to_csv('/home/riccardo/Downloads/relese_results/runs_128/test/model_25000/test.csv',index=None)"
   ]
  },
  {
   "cell_type": "markdown",
   "metadata": {},
   "source": [
    "model_50000"
   ]
  },
  {
   "cell_type": "code",
   "execution_count": 36,
   "metadata": {},
   "outputs": [],
   "source": [
    "data = pd.DataFrame(columns=['state', 'action', 'next_state', 'reward', 'done'])"
   ]
  },
  {
   "cell_type": "code",
   "execution_count": 37,
   "metadata": {},
   "outputs": [],
   "source": [
    "rb = joblib.load(f'/home/riccardo/Downloads/relese_results/runs_128/test/model_50000/ReplayBuffer_test.joblib')"
   ]
  },
  {
   "cell_type": "code",
   "execution_count": 38,
   "metadata": {},
   "outputs": [],
   "source": [
    "n_episode = rb.mem_size\n",
    "\n",
    "for i in range(n_episode):\n",
    "    episode_transition = {}\n",
    "    episode_transition['state'] = rb.state[i]\n",
    "    episode_transition['action'] = rb.action[i]\n",
    "    episode_transition['next_state'] = rb.next_state[i]\n",
    "    episode_transition['reward'] = rb.reward[i]\n",
    "    episode_transition['done'] = rb.done[i]\n",
    "    data = pd.concat([data, pd.DataFrame([episode_transition])], ignore_index=True)"
   ]
  },
  {
   "cell_type": "code",
   "execution_count": 39,
   "metadata": {},
   "outputs": [],
   "source": [
    "data.to_csv('/home/riccardo/Downloads/relese_results/runs_128/test/model_50000/test.csv',index=None)"
   ]
  },
  {
   "cell_type": "markdown",
   "metadata": {},
   "source": [
    "model_75000"
   ]
  },
  {
   "cell_type": "code",
   "execution_count": 40,
   "metadata": {},
   "outputs": [],
   "source": [
    "data = pd.DataFrame(columns=['state', 'action', 'next_state', 'reward', 'done'])"
   ]
  },
  {
   "cell_type": "code",
   "execution_count": 41,
   "metadata": {},
   "outputs": [],
   "source": [
    "rb = joblib.load(f'/home/riccardo/Downloads/relese_results/runs_128/test/model_75000/ReplayBuffer_test.joblib')"
   ]
  },
  {
   "cell_type": "code",
   "execution_count": 42,
   "metadata": {},
   "outputs": [],
   "source": [
    "n_episode = rb.mem_size\n",
    "\n",
    "for i in range(n_episode):\n",
    "    episode_transition = {}\n",
    "    episode_transition['state'] = rb.state[i]\n",
    "    episode_transition['action'] = rb.action[i]\n",
    "    episode_transition['next_state'] = rb.next_state[i]\n",
    "    episode_transition['reward'] = rb.reward[i]\n",
    "    episode_transition['done'] = rb.done[i]\n",
    "    data = pd.concat([data, pd.DataFrame([episode_transition])], ignore_index=True)"
   ]
  },
  {
   "cell_type": "code",
   "execution_count": 43,
   "metadata": {},
   "outputs": [],
   "source": [
    "data.to_csv('/home/riccardo/Downloads/relese_results/runs_128/test/model_75000/test.csv',index=None)"
   ]
  },
  {
   "cell_type": "markdown",
   "metadata": {},
   "source": [
    "model_100000"
   ]
  },
  {
   "cell_type": "code",
   "execution_count": 44,
   "metadata": {},
   "outputs": [],
   "source": [
    "data = pd.DataFrame(columns=['state', 'action', 'next_state', 'reward', 'done'])"
   ]
  },
  {
   "cell_type": "code",
   "execution_count": 45,
   "metadata": {},
   "outputs": [],
   "source": [
    "rb = joblib.load(f'/home/riccardo/Downloads/relese_results/runs_128/test/model_100000/ReplayBuffer_test.joblib')"
   ]
  },
  {
   "cell_type": "code",
   "execution_count": 46,
   "metadata": {},
   "outputs": [],
   "source": [
    "n_episode = rb.mem_size\n",
    "\n",
    "for i in range(n_episode):\n",
    "    episode_transition = {}\n",
    "    episode_transition['state'] = rb.state[i]\n",
    "    episode_transition['action'] = rb.action[i]\n",
    "    episode_transition['next_state'] = rb.next_state[i]\n",
    "    episode_transition['reward'] = rb.reward[i]\n",
    "    episode_transition['done'] = rb.done[i]\n",
    "    data = pd.concat([data, pd.DataFrame([episode_transition])], ignore_index=True)"
   ]
  },
  {
   "cell_type": "code",
   "execution_count": 47,
   "metadata": {},
   "outputs": [],
   "source": [
    "data.to_csv('/home/riccardo/Downloads/relese_results/runs_128/test/model_100000/test.csv',index=None)"
   ]
  },
  {
   "cell_type": "code",
   "execution_count": null,
   "metadata": {},
   "outputs": [],
   "source": []
  }
 ],
 "metadata": {
  "kernelspec": {
   "display_name": "locosim",
   "language": "python",
   "name": "python3"
  },
  "language_info": {
   "codemirror_mode": {
    "name": "ipython",
    "version": 3
   },
   "file_extension": ".py",
   "mimetype": "text/x-python",
   "name": "python",
   "nbconvert_exporter": "python",
   "pygments_lexer": "ipython3",
   "version": "3.11.7"
  }
 },
 "nbformat": 4,
 "nbformat_minor": 2
}
