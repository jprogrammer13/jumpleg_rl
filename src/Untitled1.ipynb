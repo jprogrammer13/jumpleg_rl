{
 "cells": [
  {
   "cell_type": "code",
   "execution_count": 1,
   "id": "141793fe-6434-4fc6-89ee-deeaab5dbcb5",
   "metadata": {},
   "outputs": [],
   "source": [
    "import numpy as np\n",
    "import matplotlib.pyplot as plt\n",
    "import torch\n",
    "import torch.nn as nn\n",
    "import copy"
   ]
  },
  {
   "cell_type": "code",
   "execution_count": 2,
   "id": "76e8207e-3863-412b-927a-b5281bd5c368",
   "metadata": {},
   "outputs": [],
   "source": [
    "obs_dim = 7\n",
    "action_dim = 5"
   ]
  },
  {
   "cell_type": "code",
   "execution_count": 77,
   "id": "faef4520-1578-43ae-b99f-1709a004e282",
   "metadata": {},
   "outputs": [],
   "source": [
    "class JumplegGA():\n",
    "    def __init__(self, obs_dim, action_dim, pop_number=10, layer_dim=128, w_restore = None):\n",
    "\n",
    "        self.obs_dim = obs_dim\n",
    "        self.action_dim = action_dim\n",
    "        self.pop_number = pop_number\n",
    "        self.device = 'cpu'\n",
    "\n",
    "        self.model = nn.Sequential(\n",
    "            nn.Linear(obs_dim, layer_dim),\n",
    "            nn.ReLU(),\n",
    "            nn.Linear(layer_dim, layer_dim),\n",
    "            nn.ReLU(),\n",
    "            nn.Linear(layer_dim, action_dim),\n",
    "            nn.Tanh()\n",
    "        )\n",
    "        if w_restore is not None:\n",
    "            self.pop_weights = joblib.load(w_restore)\n",
    "            print(\"Population restored\")\n",
    "        else:\n",
    "            self.pop_weights = self.create_population(pop_number)\n",
    "        self.dna_size = self.pop_weights[0].shape[0]\n",
    "        self.parent_n = 2\n",
    "\n",
    "    def vectorize_weights(self, model):\n",
    "        weights_vector = []\n",
    "\n",
    "        for weights in model.state_dict().values():\n",
    "            weights = weights.detach().numpy()\n",
    "            weights_vector.extend(np.reshape(weights, newshape=(weights.size)))\n",
    "\n",
    "        return np.array(weights_vector)\n",
    "\n",
    "    def restore_weights(self, model, weights_vector):\n",
    "        weights_dict = model.state_dict()\n",
    "\n",
    "        index = 0\n",
    "        for key in weights_dict:\n",
    "            w = weights_dict[key].detach().numpy()\n",
    "            w_shape = w.shape\n",
    "            w_size = w.size\n",
    "\n",
    "            layer_w_vector = weights_vector[index:index+w_size]\n",
    "            layer_w_matrix = np.reshape(layer_w_vector, newshape=(w_shape))\n",
    "            weights_dict[key] = torch.from_numpy(layer_w_matrix)\n",
    "\n",
    "            index += w_size\n",
    "\n",
    "        return weights_dict\n",
    "\n",
    "    def predict(self, i, X):\n",
    "        model = self.model\n",
    "        model_w_dict = self.restore_weights(model, self.pop_weights[i])\n",
    "        model.load_state_dict(model_w_dict)\n",
    "        prediction = model(torch.Tensor(X))\n",
    "\n",
    "        return prediction.cpu().data.numpy()\n",
    "\n",
    "    def create_population(self, pop_number):\n",
    "        initial_w_vector = self.vectorize_weights(self.model)\n",
    "        pop_weights = []\n",
    "        pop_weights.append(initial_w_vector)\n",
    "\n",
    "        for i in range(pop_number-1):\n",
    "            net_w = copy.deepcopy(initial_w_vector)\n",
    "            net_w = np.random.permutation(net_w)\n",
    "            # net_w = copy.deepcopy(initial_w_vector)\n",
    "            # net_w = net_w + \\\n",
    "            #     np.random.uniform(-1, 1, size=initial_w_vector.size)\n",
    "            # met_w = np.clip(net_w,-1,1)\n",
    "\n",
    "            pop_weights.append(net_w)\n",
    "\n",
    "        return pop_weights\n",
    "\n",
    "    def steady_state_selection(self, score, num_parents):\n",
    "        fitness_sorted = sorted(range(len(score)), key=lambda k: score[k])\n",
    "        fitness_sorted.reverse()\n",
    "        parents = np.empty((num_parents, self.dna_size))\n",
    "        for i in range(num_parents):\n",
    "            parents[i] = self.pop_weights[fitness_sorted[i]]\n",
    "\n",
    "        return parents, fitness_sorted[:num_parents]\n",
    "\n",
    "    def single_point_crossover(self, p1, p2):\n",
    "\n",
    "        cross_pt = np.random.randint(1, len(p1)-1)\n",
    "\n",
    "        c1 = np.zeros(len(p1))\n",
    "        c2 = np.zeros(len(p2))\n",
    "\n",
    "        c1[0:cross_pt] = p1[0:cross_pt]\n",
    "        c1[cross_pt:] = p2[cross_pt:]\n",
    "\n",
    "        c2[0:cross_pt] = p2[0:cross_pt]\n",
    "        c2[cross_pt:] = p1[cross_pt:]\n",
    "\n",
    "        return c1, c2\n",
    "\n",
    "    def mutation_randomly(self, child, mutation_percentage=0.1):\n",
    "\n",
    "        child_ = np.copy(child)\n",
    "        random_indx = np.random.choice(range(self.dna_size), np.ceil(\n",
    "            self.dna_size*mutation_percentage).astype(int))\n",
    "\n",
    "        for indx in random_indx:\n",
    "            child_[indx] = np.random.uniform(-1, 1)\n",
    "\n",
    "        return child_\n",
    "\n",
    "    def new_generation(self, score):\n",
    "        parents, _ = self.steady_state_selection(score, self.parent_n)\n",
    "        p1, p2 = parents\n",
    "\n",
    "        joblib.dump(self.pop_weights, '/home/riccardo/pop_weights.joblib')\n",
    "        torch.save(self.restore_weights(self.model, p1), 'best.pt')\n",
    "\n",
    "        for i in range(0, self.pop_number, 2):\n",
    "            c1, c2 = self.single_point_crossover(p1, p2)\n",
    "            c1 = self.mutation_randomly(c1)\n",
    "            c2 = self.mutation_randomly(c2)\n",
    "            self.pop_weights[i] = c1.copy()\n",
    "            self.pop_weights[i+1] = c2.copy()\n"
   ]
  },
  {
   "cell_type": "code",
   "execution_count": 78,
   "id": "c8ad12c2-6488-41b6-b8a5-df6add14ed1e",
   "metadata": {},
   "outputs": [],
   "source": [
    "jumplegGA = JumplegGA(obs_dim,action_dim)"
   ]
  },
  {
   "cell_type": "code",
   "execution_count": 79,
   "id": "f99cccb8-429f-4fe4-a74f-ce8915be42c5",
   "metadata": {},
   "outputs": [],
   "source": [
    "def objective(output):\n",
    "    return 1/np.linalg.norm(sum(output)-0.5)+1e-15"
   ]
  },
  {
   "cell_type": "code",
   "execution_count": 80,
   "id": "bfc74561-82db-46e4-b19c-0fcd35c8f24a",
   "metadata": {},
   "outputs": [],
   "source": [
    "X = [1,2,3,4,5,6,7]"
   ]
  },
  {
   "cell_type": "code",
   "execution_count": 81,
   "id": "c601fc64-e7d0-4997-a28e-8f02916e0abb",
   "metadata": {},
   "outputs": [],
   "source": [
    "score = np.zeros(10)"
   ]
  },
  {
   "cell_type": "code",
   "execution_count": 116,
   "id": "0d91bd7c-3048-43fa-af80-a37fb1e6e2a5",
   "metadata": {},
   "outputs": [
    {
     "name": "stdout",
     "output_type": "stream",
     "text": [
      "[ 1.  1.  1. -1. -1.]\n",
      "[-0.9999379 -1.         1.        -1.         1.       ]\n",
      "[ 1. -1.  1. -1. -1.]\n",
      "[-1. -1.  1. -1.  1.]\n",
      "[ 1. -1.  1. -1. -1.]\n",
      "[ 0.9282868  1.         1.        -1.         1.       ]\n",
      "[-0.25144634 -1.         -1.          1.          1.        ]\n",
      "[-1.  1.  1. -1.  1.]\n",
      "[ 0.34627855 -1.          1.         -1.         -1.        ]\n",
      "[-1. -1.  1.  1.  1.]\n"
     ]
    }
   ],
   "source": [
    "for i in range(10):\n",
    "    prediction = jumplegGA.predict(i,X)\n",
    "    print(prediction)\n",
    "    score[i] = objective(prediction)"
   ]
  },
  {
   "cell_type": "code",
   "execution_count": 117,
   "id": "33f0ab11-ff62-42c9-869f-116a427f04d5",
   "metadata": {
    "tags": []
   },
   "outputs": [
    {
     "data": {
      "text/plain": [
       "array([2.        , 0.66669427, 0.66666667, 0.66666667, 0.66666667,\n",
       "       0.41181297, 1.33076702, 2.        , 0.4643126 , 2.        ])"
      ]
     },
     "execution_count": 117,
     "metadata": {},
     "output_type": "execute_result"
    }
   ],
   "source": [
    "score"
   ]
  },
  {
   "cell_type": "code",
   "execution_count": 113,
   "id": "78d583f7-4ad1-4bb5-86dd-8e40b5838fa3",
   "metadata": {},
   "outputs": [],
   "source": [
    "jumplegGA.new_generation(score)"
   ]
  },
  {
   "cell_type": "markdown",
   "id": "ce49eccf-0140-49c8-8a3e-ebbe8d6aa179",
   "metadata": {},
   "source": [
    "# Restore and use the best parent"
   ]
  },
  {
   "cell_type": "code",
   "execution_count": 699,
   "id": "2fedb8a5-7c9f-4d25-9ec3-fea9d2afc63e",
   "metadata": {},
   "outputs": [],
   "source": [
    "layer_dim = 128\n",
    "model = nn.Sequential(\n",
    "                nn.Linear(obs_dim,layer_dim),\n",
    "                nn.ReLU(),\n",
    "                nn.Linear(layer_dim,layer_dim),\n",
    "                nn.ReLU(),\n",
    "                nn.Linear(layer_dim,action_dim),\n",
    "                nn.Tanh()\n",
    "            )"
   ]
  },
  {
   "cell_type": "code",
   "execution_count": 751,
   "id": "8fa40284-2696-4f6a-98c9-862e5ef131ba",
   "metadata": {},
   "outputs": [
    {
     "data": {
      "text/plain": [
       "<All keys matched successfully>"
      ]
     },
     "execution_count": 751,
     "metadata": {},
     "output_type": "execute_result"
    }
   ],
   "source": [
    "model.load_state_dict(torch.load('best.pt'))"
   ]
  },
  {
   "cell_type": "code",
   "execution_count": 754,
   "id": "422657a1-8f63-4c53-8cf9-71e00c5429b9",
   "metadata": {},
   "outputs": [
    {
     "data": {
      "text/plain": [
       "tensor([ 1.0000,  1.0000, -1.0000,  1.0000, -1.0000], grad_fn=<TanhBackward0>)"
      ]
     },
     "execution_count": 754,
     "metadata": {},
     "output_type": "execute_result"
    }
   ],
   "source": [
    "model(torch.Tensor(X))"
   ]
  }
 ],
 "metadata": {
  "kernelspec": {
   "display_name": "Python 3.7.13 ('jumpleg')",
   "language": "python",
   "name": "python3"
  },
  "language_info": {
   "codemirror_mode": {
    "name": "ipython",
    "version": 3
   },
   "file_extension": ".py",
   "mimetype": "text/x-python",
   "name": "python",
   "nbconvert_exporter": "python",
   "pygments_lexer": "ipython3",
   "version": "3.7.13"
  },
  "vscode": {
   "interpreter": {
    "hash": "61ced7c21db5b4e8c04e1d6c976f81255d657effdff8143a57cffa632c661546"
   }
  }
 },
 "nbformat": 4,
 "nbformat_minor": 5
}
