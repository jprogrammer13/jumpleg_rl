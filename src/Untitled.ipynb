{
 "cells": [
  {
   "cell_type": "code",
   "execution_count": 1,
   "id": "c39be984-adda-4286-8c60-58527a52f931",
   "metadata": {},
   "outputs": [],
   "source": [
    "import numpy as np\n",
    "from ReplayBuffer import ReplayBuffer\n",
    "from TD3 import TD3\n",
    "from Critic import Critic\n",
    "from Actor import Actor\n",
    "import torch.nn as nn\n",
    "import torch\n",
    "from torch.utils.data import Dataset, DataLoader, SubsetRandomSampler\n"
   ]
  },
  {
   "cell_type": "code",
   "execution_count": 2,
   "id": "78e68fb3-37ec-4cce-8e76-ba8486120562",
   "metadata": {},
   "outputs": [],
   "source": [
    "state_dim = 6\n",
    "action_dim = 19\n",
    "max_time = 10\n",
    "max_action = 500"
   ]
  },
  {
   "cell_type": "code",
   "execution_count": 3,
   "id": "ce1910c4-bdf1-4c61-9b00-e2769589f2e4",
   "metadata": {},
   "outputs": [],
   "source": [
    "rb = ReplayBuffer(state_dim,action_dim)"
   ]
  },
  {
   "cell_type": "code",
   "execution_count": 4,
   "id": "c03d429a-64a0-44cd-bc7e-0ccdb968c191",
   "metadata": {},
   "outputs": [],
   "source": [
    "policy = TD3(state_dim,action_dim,max_time,max_action)"
   ]
  },
  {
   "cell_type": "code",
   "execution_count": 5,
   "id": "78c25377-bd11-4668-a1c1-4af50643eb60",
   "metadata": {},
   "outputs": [],
   "source": [
    "for i in range(100):\n",
    "    state = np.arange(6)\n",
    "    action = np.arange(19)\n",
    "    nxt_state = np.arange(6)\n",
    "    reward = np.random.uniform(1000)\n",
    "    rb.store(state,action,nxt_state,reward)"
   ]
  },
  {
   "cell_type": "code",
   "execution_count": 6,
   "id": "2fdab61c-206d-4221-9e81-f87d0595a1ae",
   "metadata": {},
   "outputs": [],
   "source": [
    "state, action, nxt_state, reward = rb.sample(32)"
   ]
  },
  {
   "cell_type": "code",
   "execution_count": 7,
   "id": "646b3d28-8362-424d-85d1-0fbd9035f5b8",
   "metadata": {},
   "outputs": [
    {
     "data": {
      "text/plain": [
       "array([0., 1., 2., 3., 4., 5.])"
      ]
     },
     "execution_count": 7,
     "metadata": {},
     "output_type": "execute_result"
    }
   ],
   "source": [
    "state[0]"
   ]
  },
  {
   "cell_type": "code",
   "execution_count": 8,
   "id": "274817b6-0e33-442b-889a-9c65fc60b635",
   "metadata": {},
   "outputs": [],
   "source": [
    "device = \"cpu\""
   ]
  },
  {
   "cell_type": "code",
   "execution_count": 9,
   "id": "a255bb91-de5d-4185-85a5-939f3e692e10",
   "metadata": {},
   "outputs": [],
   "source": [
    "state = torch.FloatTensor(state).to(device)\n",
    "action = torch.FloatTensor(action).to(device)\n",
    "nxt_state = torch.FloatTensor(nxt_state).to(device)\n",
    "reward = torch.FloatTensor(reward).to(device)"
   ]
  },
  {
   "cell_type": "code",
   "execution_count": 10,
   "id": "af3c68bb-f261-48ab-9951-4773d1655fba",
   "metadata": {},
   "outputs": [
    {
     "name": "stdout",
     "output_type": "stream",
     "text": [
      "tensor([401.5938, 197.4934, 460.8431, 197.4934, 799.0272, 348.5472, 360.2241,\n",
      "        134.5787, 371.7381, 326.3681])\n",
      "tensor([[401.5938],\n",
      "        [197.4934],\n",
      "        [460.8431],\n",
      "        [197.4934],\n",
      "        [799.0272],\n",
      "        [348.5472],\n",
      "        [360.2241],\n",
      "        [134.5787],\n",
      "        [371.7381],\n",
      "        [326.3681]])\n",
      "tensor([[0.1882],\n",
      "        [0.1882],\n",
      "        [0.1882],\n",
      "        [0.1882],\n",
      "        [0.1882],\n",
      "        [0.1882],\n",
      "        [0.1882],\n",
      "        [0.1882],\n",
      "        [0.1882],\n",
      "        [0.1882]], grad_fn=<AddmmBackward0>)\n",
      "tensor([[-0.0330],\n",
      "        [-0.0330],\n",
      "        [-0.0330],\n",
      "        [-0.0330],\n",
      "        [-0.0330],\n",
      "        [-0.0330],\n",
      "        [-0.0330],\n",
      "        [-0.0330],\n",
      "        [-0.0330],\n",
      "        [-0.0330]], grad_fn=<AddmmBackward0>)\n"
     ]
    }
   ],
   "source": [
    "policy.train(rb,1,10)"
   ]
  },
  {
   "cell_type": "code",
   "execution_count": null,
   "id": "e2cfc15b-a2bd-4fed-8b94-e3157c1eb5b7",
   "metadata": {},
   "outputs": [],
   "source": []
  }
 ],
 "metadata": {
  "kernelspec": {
   "display_name": "Python 3 (ipykernel)",
   "language": "python",
   "name": "python3"
  },
  "language_info": {
   "codemirror_mode": {
    "name": "ipython",
    "version": 3
   },
   "file_extension": ".py",
   "mimetype": "text/x-python",
   "name": "python",
   "nbconvert_exporter": "python",
   "pygments_lexer": "ipython3",
   "version": "3.8.10"
  }
 },
 "nbformat": 4,
 "nbformat_minor": 5
}
