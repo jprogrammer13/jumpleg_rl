{
 "cells": [
  {
   "cell_type": "code",
   "execution_count": 1,
   "id": "c39be984-adda-4286-8c60-58527a52f931",
   "metadata": {},
   "outputs": [],
   "source": [
    "import numpy as np\n",
    "from ReplayBuffer import ReplayBuffer\n",
    "from TD3 import TD3\n",
    "from Critic import Critic\n",
    "from Actor import Actor\n",
    "import torch.nn as nn\n",
    "import torch\n",
    "from torch.utils.data import Dataset, DataLoader, SubsetRandomSampler\n"
   ]
  },
  {
   "cell_type": "code",
   "execution_count": 2,
   "id": "78e68fb3-37ec-4cce-8e76-ba8486120562",
   "metadata": {},
   "outputs": [],
   "source": [
    "state_dim = 6\n",
    "action_dim = 19\n",
    "max_time = 10\n",
    "max_action = 500"
   ]
  },
  {
   "cell_type": "code",
   "execution_count": 3,
   "id": "ce1910c4-bdf1-4c61-9b00-e2769589f2e4",
   "metadata": {},
   "outputs": [],
   "source": [
    "rb = ReplayBuffer(state_dim,action_dim)"
   ]
  },
  {
   "cell_type": "code",
   "execution_count": 4,
   "id": "c03d429a-64a0-44cd-bc7e-0ccdb968c191",
   "metadata": {},
   "outputs": [],
   "source": [
    "policy = TD3(state_dim,action_dim,max_time,max_action)"
   ]
  },
  {
   "cell_type": "code",
   "execution_count": 5,
   "id": "78c25377-bd11-4668-a1c1-4af50643eb60",
   "metadata": {},
   "outputs": [],
   "source": [
    "for i in range(100):\n",
    "    state = np.arange(6)\n",
    "    action = np.arange(19)\n",
    "    nxt_state = np.arange(6)\n",
    "    reward = np.random.uniform(1000)\n",
    "    rb.store(state,action,nxt_state,reward)"
   ]
  },
  {
   "cell_type": "code",
   "execution_count": 6,
   "id": "2fdab61c-206d-4221-9e81-f87d0595a1ae",
   "metadata": {},
   "outputs": [],
   "source": [
    "state, action, nxt_state, reward = rb.sample(32)"
   ]
  },
  {
   "cell_type": "code",
   "execution_count": 7,
   "id": "274817b6-0e33-442b-889a-9c65fc60b635",
   "metadata": {},
   "outputs": [],
   "source": [
    "device = \"cpu\""
   ]
  },
  {
   "cell_type": "code",
   "execution_count": 8,
   "id": "a255bb91-de5d-4185-85a5-939f3e692e10",
   "metadata": {},
   "outputs": [],
   "source": [
    "state = torch.FloatTensor(state).to(device)\n",
    "action = torch.FloatTensor(action).to(device)\n",
    "nxt_state = torch.FloatTensor(nxt_state).to(device)\n",
    "reward = torch.FloatTensor(reward).to(device)"
   ]
  },
  {
   "cell_type": "code",
   "execution_count": 9,
   "id": "c4ebfd08-97d1-449e-81c3-3edb1bec9a61",
   "metadata": {},
   "outputs": [],
   "source": [
    "actor = Actor(state_dim,action_dim,max_time,max_action).to(device)"
   ]
  },
  {
   "cell_type": "code",
   "execution_count": 10,
   "id": "dc812706-98b1-4653-8988-f1818feeb0bd",
   "metadata": {},
   "outputs": [
    {
     "ename": "RuntimeError",
     "evalue": "Tensors must have same number of dimensions: got 2 and 1",
     "output_type": "error",
     "traceback": [
      "\u001b[0;31m---------------------------------------------------------------------------\u001b[0m",
      "\u001b[0;31mRuntimeError\u001b[0m                              Traceback (most recent call last)",
      "Input \u001b[0;32mIn [10]\u001b[0m, in \u001b[0;36m<cell line: 1>\u001b[0;34m()\u001b[0m\n\u001b[0;32m----> 1\u001b[0m next_action \u001b[38;5;241m=\u001b[39m \u001b[43mactor\u001b[49m\u001b[43m(\u001b[49m\u001b[43mnxt_state\u001b[49m\u001b[43m)\u001b[49m\n",
      "File \u001b[0;32m/usr/local/lib/python3.8/dist-packages/torch/nn/modules/module.py:1130\u001b[0m, in \u001b[0;36mModule._call_impl\u001b[0;34m(self, *input, **kwargs)\u001b[0m\n\u001b[1;32m   1126\u001b[0m \u001b[38;5;66;03m# If we don't have any hooks, we want to skip the rest of the logic in\u001b[39;00m\n\u001b[1;32m   1127\u001b[0m \u001b[38;5;66;03m# this function, and just call forward.\u001b[39;00m\n\u001b[1;32m   1128\u001b[0m \u001b[38;5;28;01mif\u001b[39;00m \u001b[38;5;129;01mnot\u001b[39;00m (\u001b[38;5;28mself\u001b[39m\u001b[38;5;241m.\u001b[39m_backward_hooks \u001b[38;5;129;01mor\u001b[39;00m \u001b[38;5;28mself\u001b[39m\u001b[38;5;241m.\u001b[39m_forward_hooks \u001b[38;5;129;01mor\u001b[39;00m \u001b[38;5;28mself\u001b[39m\u001b[38;5;241m.\u001b[39m_forward_pre_hooks \u001b[38;5;129;01mor\u001b[39;00m _global_backward_hooks\n\u001b[1;32m   1129\u001b[0m         \u001b[38;5;129;01mor\u001b[39;00m _global_forward_hooks \u001b[38;5;129;01mor\u001b[39;00m _global_forward_pre_hooks):\n\u001b[0;32m-> 1130\u001b[0m     \u001b[38;5;28;01mreturn\u001b[39;00m \u001b[43mforward_call\u001b[49m\u001b[43m(\u001b[49m\u001b[38;5;241;43m*\u001b[39;49m\u001b[38;5;28;43minput\u001b[39;49m\u001b[43m,\u001b[49m\u001b[43m \u001b[49m\u001b[38;5;241;43m*\u001b[39;49m\u001b[38;5;241;43m*\u001b[39;49m\u001b[43mkwargs\u001b[49m\u001b[43m)\u001b[49m\n\u001b[1;32m   1131\u001b[0m \u001b[38;5;66;03m# Do not call functions when jit is used\u001b[39;00m\n\u001b[1;32m   1132\u001b[0m full_backward_hooks, non_full_backward_hooks \u001b[38;5;241m=\u001b[39m [], []\n",
      "File \u001b[0;32m~/ros_ws/src/locosim/robot_control/jumpleg_rl/src/Actor.py:31\u001b[0m, in \u001b[0;36mActor.forward\u001b[0;34m(self, state)\u001b[0m\n\u001b[1;32m     29\u001b[0m T_th \u001b[38;5;241m=\u001b[39m torch\u001b[38;5;241m.\u001b[39mabs(\u001b[38;5;28mself\u001b[39m\u001b[38;5;241m.\u001b[39mmax_time_value \u001b[38;5;241m*\u001b[39m action[:,\u001b[38;5;241m0\u001b[39m])\u001b[38;5;241m.\u001b[39mreshape(\u001b[38;5;241m-\u001b[39m\u001b[38;5;241m1\u001b[39m,\u001b[38;5;241m1\u001b[39m)\n\u001b[1;32m     30\u001b[0m coef \u001b[38;5;241m=\u001b[39m torch\u001b[38;5;241m.\u001b[39mflatten(\u001b[38;5;28mself\u001b[39m\u001b[38;5;241m.\u001b[39mmax_action_value \u001b[38;5;241m*\u001b[39m action[:,\u001b[38;5;241m1\u001b[39m:])\n\u001b[0;32m---> 31\u001b[0m action \u001b[38;5;241m=\u001b[39m \u001b[43mtorch\u001b[49m\u001b[38;5;241;43m.\u001b[39;49m\u001b[43mcat\u001b[49m\u001b[43m(\u001b[49m\u001b[43m(\u001b[49m\u001b[43mT_th\u001b[49m\u001b[43m,\u001b[49m\u001b[43mcoef\u001b[49m\u001b[43m)\u001b[49m\u001b[43m,\u001b[49m\u001b[43maxis\u001b[49m\u001b[38;5;241;43m=\u001b[39;49m\u001b[38;5;241;43m1\u001b[39;49m\u001b[43m)\u001b[49m\n\u001b[1;32m     32\u001b[0m \u001b[38;5;28;01mreturn\u001b[39;00m action\n",
      "\u001b[0;31mRuntimeError\u001b[0m: Tensors must have same number of dimensions: got 2 and 1"
     ]
    }
   ],
   "source": [
    "next_action = actor(nxt_state)"
   ]
  },
  {
   "cell_type": "code",
   "execution_count": null,
   "id": "b2de5a79-ee22-4947-bf30-f178477d3e26",
   "metadata": {
    "tags": []
   },
   "outputs": [],
   "source": [
    "next_action"
   ]
  },
  {
   "cell_type": "code",
   "execution_count": null,
   "id": "6173484d-5d61-46bb-bfe8-85f4bcddd9b9",
   "metadata": {},
   "outputs": [],
   "source": [
    "a = torch.randn(2, 19)\n",
    "T_th = torch.abs(max_time* a[:,0])\n",
    "coef = torch.flatten(max_action * a[:,1:])"
   ]
  },
  {
   "cell_type": "code",
   "execution_count": null,
   "id": "2baf76d9-4aee-4646-9387-692679a9544a",
   "metadata": {},
   "outputs": [],
   "source": [
    "a"
   ]
  },
  {
   "cell_type": "code",
   "execution_count": null,
   "id": "fc8e7973-4978-455c-87da-b326001cca36",
   "metadata": {},
   "outputs": [],
   "source": [
    "t = a[:,0].reshape(-1,1)"
   ]
  },
  {
   "cell_type": "code",
   "execution_count": null,
   "id": "1b82ff94-5d96-417f-b86d-739bd9137c0d",
   "metadata": {},
   "outputs": [],
   "source": [
    "b = a[:,1:]"
   ]
  },
  {
   "cell_type": "code",
   "execution_count": null,
   "id": "584ae5ca-091c-41ec-b5b0-8fb5b26c5bb3",
   "metadata": {},
   "outputs": [],
   "source": [
    "t,a"
   ]
  },
  {
   "cell_type": "code",
   "execution_count": null,
   "id": "00be01ba-55d8-4c02-b265-6c708089cdc1",
   "metadata": {},
   "outputs": [],
   "source": [
    "torch.cat((t,a),1)"
   ]
  }
 ],
 "metadata": {
  "kernelspec": {
   "display_name": "Python 3 (ipykernel)",
   "language": "python",
   "name": "python3"
  },
  "language_info": {
   "codemirror_mode": {
    "name": "ipython",
    "version": 3
   },
   "file_extension": ".py",
   "mimetype": "text/x-python",
   "name": "python",
   "nbconvert_exporter": "python",
   "pygments_lexer": "ipython3",
   "version": "3.8.10"
  }
 },
 "nbformat": 4,
 "nbformat_minor": 5
}
