{
 "cells": [
  {
   "cell_type": "code",
   "execution_count": 1,
   "id": "c39be984-adda-4286-8c60-58527a52f931",
   "metadata": {},
   "outputs": [],
   "source": [
    "import numpy as np\n",
    "from ReplayBuffer import ReplayBuffer\n",
    "from TD3 import TD3\n",
    "from Critic import Critic\n",
    "from Actor import Actor\n",
    "import torch.nn as nn\n",
    "import torch\n",
    "from torch.utils.data import Dataset, DataLoader, SubsetRandomSampler\n"
   ]
  },
  {
   "cell_type": "code",
   "execution_count": 2,
   "id": "78e68fb3-37ec-4cce-8e76-ba8486120562",
   "metadata": {},
   "outputs": [],
   "source": [
    "state_dim = 6\n",
    "action_dim = 19\n",
    "max_time = 10\n",
    "max_action = 500"
   ]
  },
  {
   "cell_type": "code",
   "execution_count": 3,
   "id": "ce1910c4-bdf1-4c61-9b00-e2769589f2e4",
   "metadata": {},
   "outputs": [],
   "source": [
    "rb = ReplayBuffer(state_dim,action_dim)"
   ]
  },
  {
   "cell_type": "code",
   "execution_count": 4,
   "id": "c03d429a-64a0-44cd-bc7e-0ccdb968c191",
   "metadata": {},
   "outputs": [],
   "source": [
    "policy = TD3(state_dim,action_dim,max_time,max_action)"
   ]
  },
  {
   "cell_type": "code",
   "execution_count": 5,
   "id": "78c25377-bd11-4668-a1c1-4af50643eb60",
   "metadata": {},
   "outputs": [],
   "source": [
    "for i in range(100):\n",
    "    state = np.arange(6)\n",
    "    action = np.arange(19)\n",
    "    nxt_state = np.arange(6)\n",
    "    reward = np.random.uniform(1000)\n",
    "    rb.store(state,action,nxt_state,reward)"
   ]
  },
  {
   "cell_type": "code",
   "execution_count": 6,
   "id": "2fdab61c-206d-4221-9e81-f87d0595a1ae",
   "metadata": {},
   "outputs": [],
   "source": [
    "state, action, nxt_state, reward = rb.sample(32)"
   ]
  },
  {
   "cell_type": "code",
   "execution_count": 7,
   "id": "af3c68bb-f261-48ab-9951-4773d1655fba",
   "metadata": {},
   "outputs": [],
   "source": [
    "policy.train(rb,10)"
   ]
  },
  {
   "cell_type": "code",
   "execution_count": 9,
   "id": "0bf00d29-a23d-4e31-8203-bc3425f61a0c",
   "metadata": {},
   "outputs": [],
   "source": [
    "action = np.random.rand(19)"
   ]
  },
  {
   "cell_type": "code",
   "execution_count": 13,
   "id": "d33c85e7-7b29-4882-8224-76041b9bfd6d",
   "metadata": {},
   "outputs": [],
   "source": [
    "T_th = [np.abs(10 * action[0])]\n",
    "coef = 500 * action[1:]\n",
    "action = np.concatenate((T_th,coef))"
   ]
  },
  {
   "cell_type": "code",
   "execution_count": 14,
   "id": "4f90203e-3e60-4f81-ac47-0c598ab38a64",
   "metadata": {},
   "outputs": [
    {
     "data": {
      "text/plain": [
       "array([  3.3242602 , 362.18142335, 238.05038436, 137.94959479,\n",
       "       305.62622241,  11.29523593, 189.72405898, 164.5146315 ,\n",
       "       319.40553002, 409.12145127, 226.30330379, 147.13353829,\n",
       "        41.28369998, 465.91540901, 111.55983097, 199.7546455 ,\n",
       "        86.58571038, 116.12232831, 317.70933147])"
      ]
     },
     "execution_count": 14,
     "metadata": {},
     "output_type": "execute_result"
    }
   ],
   "source": [
    "action"
   ]
  },
  {
   "cell_type": "code",
   "execution_count": null,
   "id": "e2cfc15b-a2bd-4fed-8b94-e3157c1eb5b7",
   "metadata": {},
   "outputs": [],
   "source": [
    "from ReplayBuffer import ReplayBuffer\n",
    "import os\n",
    "import matplotlib.pyplot as plt\n"
   ]
  },
  {
   "cell_type": "code",
   "execution_count": null,
   "id": "140ecf5f-428d-4718-b9cc-a2a37915df84",
   "metadata": {},
   "outputs": [],
   "source": [
    "rb = ReplayBuffer(state_dim,action_dim,'../../../../../../ReplayBuffer.csv')"
   ]
  },
  {
   "cell_type": "code",
   "execution_count": null,
   "id": "7ef21a7c-be6d-4785-8aaa-6035aa75d9c3",
   "metadata": {},
   "outputs": [],
   "source": [
    "data = rb.dump()"
   ]
  },
  {
   "cell_type": "code",
   "execution_count": null,
   "id": "38201043-7a04-411c-a6da-1fa6622b9ae1",
   "metadata": {},
   "outputs": [],
   "source": [
    "plt.figure(figsize=(15,10))\n",
    "plt.title(\"Reward over episode\")\n",
    "plt.xlabel(\"Episode#\")\n",
    "plt.ylabel(\"Reward\")\n",
    "plt.plot(data['reward'], color=\"orange\", linewidth=2.5)\n",
    "plt.savefig('test.jpg')\n",
    "plt.show()"
   ]
  },
  {
   "cell_type": "code",
   "execution_count": null,
   "id": "6ecdf547-a193-4f47-8be6-e6e75a2d378e",
   "metadata": {},
   "outputs": [],
   "source": []
  }
 ],
 "metadata": {
  "kernelspec": {
   "display_name": "Python 3 (ipykernel)",
   "language": "python",
   "name": "python3"
  },
  "language_info": {
   "codemirror_mode": {
    "name": "ipython",
    "version": 3
   },
   "file_extension": ".py",
   "mimetype": "text/x-python",
   "name": "python",
   "nbconvert_exporter": "python",
   "pygments_lexer": "ipython3",
   "version": "3.7.13"
  }
 },
 "nbformat": 4,
 "nbformat_minor": 5
}
