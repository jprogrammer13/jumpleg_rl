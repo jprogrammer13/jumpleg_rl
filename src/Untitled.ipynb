{
 "cells": [
  {
   "cell_type": "code",
   "execution_count": 1,
   "id": "a5a3aede",
   "metadata": {},
   "outputs": [],
   "source": [
    "import numpy as np\n",
    "from ReplayBuffer import ReplayBuffer\n",
    "from TD3 import TD3\n",
    "from Critic import Critic\n",
    "from Actor import Actor\n",
    "import torch.nn as nn\n",
    "import torch\n",
    "from torch.utils.data import Dataset, DataLoader, SubsetRandomSampler\n"
   ]
  },
  {
   "cell_type": "code",
   "execution_count": 3,
   "id": "8740b88c",
   "metadata": {},
   "outputs": [],
   "source": [
    "state_dim = 6\n",
    "action_dim = 6\n",
    "max_time = 10"
   ]
  },
  {
   "cell_type": "code",
   "execution_count": 3,
   "id": "75fcbcf0",
   "metadata": {},
   "outputs": [],
   "source": [
    "rb = ReplayBuffer(state_dim,action_dim)"
   ]
  },
  {
   "cell_type": "code",
   "execution_count": 4,
   "id": "f72257de",
   "metadata": {},
   "outputs": [],
   "source": [
    "# policy = TD3(state_dim,action_dim,max_time,100,100)"
   ]
  },
  {
   "cell_type": "code",
   "execution_count": 5,
   "id": "70d8468c",
   "metadata": {},
   "outputs": [],
   "source": [
    "act = Actor(state_dim,action_dim,max_time,0.7,5).to('cpu')"
   ]
  },
  {
   "cell_type": "code",
   "execution_count": 6,
   "id": "14ccd7d9",
   "metadata": {},
   "outputs": [],
   "source": [
    "for i in range(100):\n",
    "    state = np.arange(6)\n",
    "    action = np.arange(6)\n",
    "    nxt_state = np.arange(6)\n",
    "    reward = np.random.uniform(1000)\n",
    "    rb.store(state,action,nxt_state,reward)"
   ]
  },
  {
   "cell_type": "code",
   "execution_count": 7,
   "id": "3406bdf6",
   "metadata": {},
   "outputs": [],
   "source": [
    "state, action, nxt_state, reward = rb.sample(32)"
   ]
  },
  {
   "cell_type": "code",
   "execution_count": 8,
   "id": "c211ca76",
   "metadata": {},
   "outputs": [
    {
     "data": {
      "text/plain": [
       "array([0., 1., 2., 3., 4., 5.])"
      ]
     },
     "execution_count": 8,
     "metadata": {},
     "output_type": "execute_result"
    }
   ],
   "source": [
    "state[0]"
   ]
  },
  {
   "cell_type": "code",
   "execution_count": 9,
   "id": "1a1c8b25",
   "metadata": {
    "scrolled": true
   },
   "outputs": [
    {
     "name": "stdout",
     "output_type": "stream",
     "text": [
      "tensor([0.2800, 0.0284, 0.0127, 0.4628, 0.0867, 0.0100],\n",
      "       grad_fn=<AbsBackward0>)\n"
     ]
    },
    {
     "data": {
      "text/plain": [
       "tensor([[2.8001, 0.0853, 0.1138, 0.0089, 2.3142, 0.4333, 0.0501]],\n",
       "       grad_fn=<CatBackward0>)"
      ]
     },
     "execution_count": 9,
     "metadata": {},
     "output_type": "execute_result"
    }
   ],
   "source": [
    "act(torch.Tensor(state[0]))"
   ]
  },
  {
   "cell_type": "code",
   "execution_count": 7,
   "id": "f5419847",
   "metadata": {},
   "outputs": [],
   "source": [
    "policy.train(rb,10)"
   ]
  },
  {
   "cell_type": "code",
   "execution_count": 9,
   "id": "e9e2df44",
   "metadata": {},
   "outputs": [],
   "source": [
    "action = np.random.rand(19)"
   ]
  },
  {
   "cell_type": "code",
   "execution_count": 13,
   "id": "a97ffa60",
   "metadata": {},
   "outputs": [],
   "source": [
    "T_th = [np.abs(10 * action[0])]\n",
    "coef = 500 * action[1:]\n",
    "action = np.concatenate((T_th,coef))"
   ]
  },
  {
   "cell_type": "code",
   "execution_count": 14,
   "id": "0d74ea93",
   "metadata": {},
   "outputs": [
    {
     "data": {
      "text/plain": [
       "array([  3.3242602 , 362.18142335, 238.05038436, 137.94959479,\n",
       "       305.62622241,  11.29523593, 189.72405898, 164.5146315 ,\n",
       "       319.40553002, 409.12145127, 226.30330379, 147.13353829,\n",
       "        41.28369998, 465.91540901, 111.55983097, 199.7546455 ,\n",
       "        86.58571038, 116.12232831, 317.70933147])"
      ]
     },
     "execution_count": 14,
     "metadata": {},
     "output_type": "execute_result"
    }
   ],
   "source": [
    "action"
   ]
  },
  {
   "cell_type": "code",
   "execution_count": 1,
   "id": "8e329bc7",
   "metadata": {},
   "outputs": [],
   "source": [
    "from ReplayBuffer import ReplayBuffer\n",
    "import os\n",
    "import matplotlib.pyplot as plt\n"
   ]
  },
  {
   "cell_type": "code",
   "execution_count": 4,
   "id": "c6f071fb-deba-46f7-9a91-e068bf408889",
   "metadata": {},
   "outputs": [],
   "source": [
    "state_dim = 6\n",
    "action_dim = 6\n",
    "max_time = 10"
   ]
  },
  {
   "cell_type": "code",
   "execution_count": 32,
   "id": "00befd0b",
   "metadata": {},
   "outputs": [],
   "source": [
    "rb = ReplayBuffer(state_dim,action_dim,'../../../../../../ReplayBuffer.csv')"
   ]
  },
  {
   "cell_type": "code",
   "execution_count": 33,
   "id": "985112a0",
   "metadata": {},
   "outputs": [],
   "source": [
    "data = rb.dump()"
   ]
  },
  {
   "cell_type": "code",
   "execution_count": 36,
   "id": "93562a1d",
   "metadata": {},
   "outputs": [
    {
     "data": {
      "image/png": "[encoded data removed]",
      "text/plain": [
       "<Figure size 1080x720 with 1 Axes>"
      ]
     },
     "metadata": {
      "needs_background": "light"
     },
     "output_type": "display_data"
    }
   ],
   "source": [
    "plt.figure(figsize=(15,10))\n",
    "plt.title(\"Reward over episode\")\n",
    "plt.xlim((32,len(data['reward'])))\n",
    "plt.ylim((-1000000,0))\n",
    "plt.xlabel(\"Episode#\")\n",
    "plt.ylabel(\"Reward\")\n",
    "plt.plot(data['reward'], color=\"orange\", linewidth=2.5)\n",
    "plt.savefig('test.jpg')\n",
    "plt.show()"
   ]
  },
  {
   "cell_type": "code",
   "execution_count": null,
   "id": "f8013fc6",
   "metadata": {},
   "outputs": [],
   "source": []
  }
 ],
 "metadata": {
  "kernelspec": {
   "display_name": "Python 3 (ipykernel)",
   "language": "python",
   "name": "python3"
  },
  "language_info": {
   "codemirror_mode": {
    "name": "ipython",
    "version": 3
   },
   "file_extension": ".py",
   "mimetype": "text/x-python",
   "name": "python",
   "nbconvert_exporter": "python",
   "pygments_lexer": "ipython3",
   "version": "3.7.13"
  }
 },
 "nbformat": 4,
 "nbformat_minor": 5
}
