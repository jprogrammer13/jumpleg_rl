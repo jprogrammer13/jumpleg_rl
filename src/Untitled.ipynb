{
 "cells": [
  {
   "cell_type": "code",
   "execution_count": 149,
   "id": "c39be984-adda-4286-8c60-58527a52f931",
   "metadata": {},
   "outputs": [],
   "source": [
    "import numpy as np\n",
    "from ReplayBuffer import ReplayBuffer\n",
    "from TD3 import TD3\n",
    "import torch.nn as nn\n",
    "import torch"
   ]
  },
  {
   "cell_type": "code",
   "execution_count": 135,
   "id": "78e68fb3-37ec-4cce-8e76-ba8486120562",
   "metadata": {},
   "outputs": [],
   "source": [
    "state_dim = 6\n",
    "action_dim = 19\n",
    "max_action = 500"
   ]
  },
  {
   "cell_type": "code",
   "execution_count": 136,
   "id": "ce1910c4-bdf1-4c61-9b00-e2769589f2e4",
   "metadata": {},
   "outputs": [],
   "source": [
    "rb = ReplayBuffer(state_dim,action_dim)"
   ]
  },
  {
   "cell_type": "code",
   "execution_count": 137,
   "id": "c03d429a-64a0-44cd-bc7e-0ccdb968c191",
   "metadata": {},
   "outputs": [],
   "source": [
    "policy = TD3(state_dim,action_dim,max_action)"
   ]
  },
  {
   "cell_type": "code",
   "execution_count": 138,
   "id": "f7b4924f-526c-4f28-a83c-4af80c3d0469",
   "metadata": {},
   "outputs": [],
   "source": [
    "obs = [-0.01303 , 0.00229,  0.25252,  0.14923,  0.6309  , 0.31794]"
   ]
  },
  {
   "cell_type": "code",
   "execution_count": 139,
   "id": "685e9c5b-1dc3-4db6-8a14-4a1a82b70e20",
   "metadata": {},
   "outputs": [],
   "source": [
    "act = policy.get_action(np.array(obs))"
   ]
  },
  {
   "cell_type": "code",
   "execution_count": 140,
   "id": "9a494fa5-b777-405f-ad15-61b287fccbee",
   "metadata": {},
   "outputs": [
    {
     "data": {
      "text/plain": [
       "(array([ 33.39757189, -66.12587012,  46.5661747 ,   7.1323301 ,\n",
       "        -10.23488521, -15.58135106,   5.16549846,  28.37389341,\n",
       "          3.93352011, -12.25683148,  -7.8124332 ,  28.5637126 ,\n",
       "          5.36553276,  28.96400019,  45.16358342,  -6.785143  ,\n",
       "        -12.35006952, -38.89369976,  40.52794174]),\n",
       " 33.39757188586711,\n",
       " array([-66.12587012,  46.5661747 ,   7.1323301 , -10.23488521,\n",
       "        -15.58135106,   5.16549846,  28.37389341,   3.93352011,\n",
       "        -12.25683148,  -7.8124332 ,  28.5637126 ,   5.36553276,\n",
       "         28.96400019,  45.16358342,  -6.785143  , -12.35006952,\n",
       "        -38.89369976,  40.52794174]))"
      ]
     },
     "execution_count": 140,
     "metadata": {},
     "output_type": "execute_result"
    }
   ],
   "source": [
    "act, act[0],act[1:]"
   ]
  },
  {
   "cell_type": "code",
   "execution_count": 151,
   "id": "50fac8a0-b546-48f1-8b70-9614182400cf",
   "metadata": {},
   "outputs": [],
   "source": [
    "a = torch.tensor([-0.0456, -0.0501,  0.0579,  0.0444,  0.0303,  0.0375,  0.0322, -0.0327,\n",
    "        -0.0362,  0.1022, -0.0326,  0.0566,  0.0899,  0.0257, -0.0568,  0.0343,\n",
    "         0.0811, -0.0330,  0.0726])"
   ]
  },
  {
   "cell_type": "code",
   "execution_count": 153,
   "id": "43877d40-01fa-448f-9961-f8cd6722afd9",
   "metadata": {},
   "outputs": [
    {
     "data": {
      "text/plain": [
       "tensor(-0.0456)"
      ]
     },
     "execution_count": 153,
     "metadata": {},
     "output_type": "execute_result"
    }
   ],
   "source": [
    "a[0]"
   ]
  }
 ],
 "metadata": {
  "kernelspec": {
   "display_name": "Python 3 (ipykernel)",
   "language": "python",
   "name": "python3"
  },
  "language_info": {
   "codemirror_mode": {
    "name": "ipython",
    "version": 3
   },
   "file_extension": ".py",
   "mimetype": "text/x-python",
   "name": "python",
   "nbconvert_exporter": "python",
   "pygments_lexer": "ipython3",
   "version": "3.7.13"
  }
 },
 "nbformat": 4,
 "nbformat_minor": 5
}
